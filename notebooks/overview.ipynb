{
 "cells": [
  {
   "cell_type": "markdown",
   "metadata": {},
   "source": [
    "### Mayavi on Jupyter\n",
    "\n",
    "Works with either `'x3d'` or `'png'` modes.  The PNG mode embeds images in the notebook and relies on off-screen-rendering working correctly.\n",
    "\n",
    "For [X3D](http://www.x3dom.org) output to be rendered one either needs to [install the nbextensions](http://jupyter-notebook.readthedocs.io/en/latest/examples/Notebook/Distributing%20Jupyter%20Extensions%20as%20Python%20Packages.html#Installation-of-Jupyter-Extensions) for mayavi as\n",
    "\n",
    "```\n",
    "   $ jupyter nbextension install --py mayavi --user\n",
    "```\n",
    "or requires an internet connection.  \n",
    "\n",
    "In this notebook we demonstrate the X3D output while requiring an internet connection."
   ]
  },
  {
   "cell_type": "code",
   "execution_count": null,
   "metadata": {},
   "outputs": [],
   "source": [
    "# Always start with this.\n",
    "from mayavi import mlab\n",
    "mlab.init_notebook(backend='png') \n",
    "# local=True is the default but requires the nbextension to be installed.  \n",
    "# local=False pulls the content from the internet."
   ]
  },
  {
   "cell_type": "code",
   "execution_count": null,
   "metadata": {},
   "outputs": [],
   "source": [
    "s = mlab.test_points3d()\n",
    "s"
   ]
  },
  {
   "cell_type": "markdown",
   "metadata": {},
   "source": [
    "To see how to interact with the scene, please see: http://www.x3dom.org/documentation/interaction/\n",
    "\n",
    "- Left click and drag to rotate the camera.\n",
    "- Press 'r' or 'a' to reset the zoom.\n",
    "\n",
    "Most [modern browsers](http://www.x3dom.org/contact/) should be supported."
   ]
  },
  {
   "cell_type": "code",
   "execution_count": null,
   "metadata": {},
   "outputs": [],
   "source": [
    "mlab.clf()\n",
    "mlab.test_contour_surf()"
   ]
  },
  {
   "cell_type": "markdown",
   "metadata": {},
   "source": [
    "### More examples\n",
    "\n",
    "Try the following examples too!\n",
    "\n",
    "Note that one can call `init_notebook` multiple times if needed."
   ]
  },
  {
   "cell_type": "code",
   "execution_count": null,
   "metadata": {},
   "outputs": [],
   "source": [
    "mlab.clf()\n",
    "s = mlab.test_mesh_sphere()\n",
    "s.actor.property.representation = 'wireframe'\n",
    "s"
   ]
  },
  {
   "cell_type": "code",
   "execution_count": null,
   "metadata": {},
   "outputs": [],
   "source": [
    "mlab.init_notebook('png') # This may not work well if off screen rendering is not working."
   ]
  },
  {
   "cell_type": "code",
   "execution_count": null,
   "metadata": {},
   "outputs": [],
   "source": [
    "mlab.clf()\n",
    "mlab.test_contour3d()"
   ]
  },
  {
   "cell_type": "code",
   "execution_count": null,
   "metadata": {},
   "outputs": [],
   "source": [
    "mlab.init_notebook('x3d')\n",
    "mlab.clf()\n",
    "mlab.test_barchart()"
   ]
  },
  {
   "cell_type": "code",
   "execution_count": null,
   "metadata": {},
   "outputs": [],
   "source": []
  }
 ],
 "metadata": {
  "kernelspec": {
   "display_name": "Python 2",
   "language": "python",
   "name": "python2"
  },
  "language_info": {
   "codemirror_mode": {
    "name": "ipython",
    "version": 2
   },
   "file_extension": ".py",
   "mimetype": "text/x-python",
   "name": "python",
   "nbconvert_exporter": "python",
   "pygments_lexer": "ipython2",
   "version": "2.7.14"
  }
 },
 "nbformat": 4,
 "nbformat_minor": 1
}
